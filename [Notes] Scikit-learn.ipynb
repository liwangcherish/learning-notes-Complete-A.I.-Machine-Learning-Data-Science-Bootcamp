{
 "cells": [
  {
   "cell_type": "markdown",
   "id": "c6fef557",
   "metadata": {},
   "source": [
    "## Scikit- learn:\n",
    "\n",
    "#### What is SK learn?\n",
    "ML library: Data -> predictions pattern\n",
    "\n",
    "#### Why Scikit-Learn?\n",
    "* Methods to evaluate ML model\n",
    "* in-built machine learning models\n",
    "\n",
    "#### What are we going to cover\n",
    "get data ready -> pick a model -> fit the model ro the data and make a prediction -> evaluation the model -> Improve through experiment -> Save and reload trained the model \n"
   ]
  },
  {
   "cell_type": "markdown",
   "id": "29f84ebf",
   "metadata": {},
   "source": [
    "### Refresher: What is Machine Learning\n",
    "\n",
    "input -> output <br> \n",
    "Let machine figure out what is the function to convert input to output? <br> \n",
    "Algorithm, Brain\n",
    "\n",
    "For humans, hard to understand the machine learning model. <br>\n",
    "Give it lots of lots of data, and test the result. "
   ]
  },
  {
   "cell_type": "code",
   "execution_count": null,
   "id": "6ce3043f",
   "metadata": {},
   "outputs": [],
   "source": []
  },
  {
   "cell_type": "code",
   "execution_count": null,
   "id": "3c51d6e9",
   "metadata": {},
   "outputs": [],
   "source": []
  },
  {
   "cell_type": "code",
   "execution_count": null,
   "id": "9375c267",
   "metadata": {},
   "outputs": [],
   "source": []
  },
  {
   "cell_type": "code",
   "execution_count": null,
   "id": "d2a4fd85",
   "metadata": {},
   "outputs": [],
   "source": []
  },
  {
   "cell_type": "code",
   "execution_count": null,
   "id": "315e6349",
   "metadata": {},
   "outputs": [],
   "source": []
  },
  {
   "cell_type": "code",
   "execution_count": null,
   "id": "186e967f",
   "metadata": {},
   "outputs": [],
   "source": []
  },
  {
   "cell_type": "code",
   "execution_count": null,
   "id": "de92e94a",
   "metadata": {},
   "outputs": [],
   "source": []
  },
  {
   "cell_type": "code",
   "execution_count": null,
   "id": "9a87fa08",
   "metadata": {},
   "outputs": [],
   "source": []
  }
 ],
 "metadata": {
  "kernelspec": {
   "display_name": "Python 3 (ipykernel)",
   "language": "python",
   "name": "python3"
  },
  "language_info": {
   "codemirror_mode": {
    "name": "ipython",
    "version": 3
   },
   "file_extension": ".py",
   "mimetype": "text/x-python",
   "name": "python",
   "nbconvert_exporter": "python",
   "pygments_lexer": "ipython3",
   "version": "3.9.7"
  }
 },
 "nbformat": 4,
 "nbformat_minor": 5
}
